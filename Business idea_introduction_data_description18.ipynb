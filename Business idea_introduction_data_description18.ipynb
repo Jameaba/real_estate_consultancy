{
 "cells": [
  {
   "cell_type": "markdown",
   "metadata": {},
   "source": [
    "# Introduction to the Business idea\n"
   ]
  },
  {
   "cell_type": "markdown",
   "metadata": {},
   "source": [
    "I would like to provide  real estate consultant services to potential clients who are searching for neighborhoods and districts that are suitable to their business interests based on security and safety from Violence. The potential clients to be targeted will be those that are planning to  establish  education service delivery enterprises in Illinois city. Obviously like most potential searchers of real estate property in Illinois they are likely to be wary of the security of their persons and property including their businesses once they get the green light to start operating. to that end, my service will be tailored toward delivering information to clients about potential districts where clients can establish their enterprises  that wont be affected by high frequency  of primary crimes such as the type that involves the use of guns. "
   ]
  },
  {
   "cell_type": "markdown",
   "metadata": {},
   "source": [
    "# Description of the dataset to use during my fledgling consultancy service¶"
   ]
  },
  {
   "cell_type": "markdown",
   "metadata": {},
   "source": [
    "\n",
    "**Description of the dataset to use \n",
    "\n",
    "The capstone will be based on Chicago Metropolitan police dataset that tracks crimes based on several variables that include ID, which is the unique identifier of the recorded crime; Case number, which is issued by the Chicago police department, that is unique to the incident; the Date, which is the best estimate of the time when the crime occurred; Block, which is the partially redacted address where the incident occurred; ICUCR, the Illinois, Chicago Uniform Crime reporting Code; primary Type, which is the primary description of the IUCR code that relates to the incident; description, which is the secondary description of the IUCR code: subcategory of the primary description;  location of the incident; whether or not arrest(s) were made following the incident;  Domestic, which refers to whether or not  the incident involved  domestic violence and the nature of the violence as defined by Illinois Domestic  Violence Act; Beat, which is the location of the incident based on the beat signals registered  in the Police car;  District, which is the police district where the incident occurred; Ward, which is the City council of district where the incident occurred; Community area where the incident occurred; FBI code , which is based on the crime  classification based on the FBI’s national incident based reporting system (NIBRS); X coordinate of the place where the incident occurred based on Illinois State plane;   Year when the incident occurred; update on, data and time  the crime category is updated; Y coordinate which is the Y coordinate of the place where the incident occurred on Illinois State plane;   Latitude, which is the latitude of the place where the incident occurred; Longitude, which is the longitude of the place where the incident occurred;  and location which consists of the latitude and longitude of the place where the incident occurred.  The dataset is extracted from Chicago Police Department's CLEAR (Citizen Law Enforcement Analysis and Reporting) system, and  updated on a daily basis. To that end, the dataset contains of  criminal incidents in Chicago from  2001 until January 1, 2019. Data can be sourced at the link: https://portal.chicagopolice.org/portal/page/portal/ClearPath\n"
   ]
  }
 ],
 "metadata": {
  "kernelspec": {
   "display_name": "Python 3",
   "language": "python",
   "name": "python3"
  },
  "language_info": {
   "codemirror_mode": {
    "name": "ipython",
    "version": 3
   },
   "file_extension": ".py",
   "mimetype": "text/x-python",
   "name": "python",
   "nbconvert_exporter": "python",
   "pygments_lexer": "ipython3",
   "version": "3.6.5"
  }
 },
 "nbformat": 4,
 "nbformat_minor": 2
}
